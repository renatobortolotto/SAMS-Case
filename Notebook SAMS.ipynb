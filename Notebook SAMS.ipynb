{
 "cells": [
  {
   "cell_type": "code",
   "outputs": [],
   "source": [
    "    #imports padrão\n",
    "import numpy as np\n",
    "import pandas as pd\n",
    "import matplotlib.pyplot as plt\n",
    "import seaborn as sns\n",
    "import scipy\n"
   ],
   "metadata": {
    "id": "e7cbfc55cf0245cf",
    "ExecuteTime": {
     "end_time": "2024-02-17T14:05:50.491166100Z",
     "start_time": "2024-02-17T14:05:50.487120800Z"
    }
   },
   "id": "e7cbfc55cf0245cf",
   "execution_count": 2
  },
  {
   "cell_type": "code",
   "outputs": [],
   "source": [
    "    #ler o CSV\n",
    "sams = pd.read_csv('C:\\\\Users\\\\Renato\\\\Downloads\\\\Case Analytics Engineer Sam\\'s Club\\\\CASE_PRATICO_SAMS_CLUB.csv')\n",
    "sams"
   ],
   "metadata": {
    "colab": {
     "base_uri": "https://localhost:8080/",
     "height": 424
    },
    "id": "4b8db9bcb8b51c76",
    "outputId": "87c12ef5-dde7-4437-fb80-41b4f9ef3505"
   },
   "id": "4b8db9bcb8b51c76",
   "execution_count": null
  },
  {
   "cell_type": "code",
   "outputs": [],
   "source": [
    "# Agrupa 10 valores com a menor MARGEM\n",
    "\n",
    "grouped_sams_lowest = sams.groupby(['item_id', 'item_descricao'])\n",
    "agg_sams_lowest = grouped_sams_lowest.agg({'receita_bruta': 'sum', 'item_unidade': 'sum', 'margem': 'sum'})\n",
    "menores_margens = agg_sams_lowest.sort_values(by='margem', ascending=True).reset_index().head(15)\n",
    "menores_margens\n"
   ],
   "metadata": {
    "collapsed": false
   },
   "id": "de60742532ccd057",
   "execution_count": null
  },
  {
   "cell_type": "code",
   "outputs": [],
   "source": [
    "#agrupa os valores com a MAIOR MARGEM\n",
    "grouped_sams = sams.groupby(['departamento','periodo', 'item_id', 'item_descricao'])\n",
    "agg_sams = grouped_sams.agg({'receita_bruta': 'sum', 'item_unidade': 'sum', 'margem': 'sum'})\n",
    "top10_agrupado = agg_sams.sort_values(by='margem', ascending=False).reset_index().head(30)\n",
    "\n",
    "# cria a coluna de coeficiente de margem\n",
    "marg_recbrut = top10_agrupado\n",
    "marg_recbrut['Coeficiente'] = marg_recbrut['margem']/marg_recbrut['item_unidade']\n",
    "marg_recbrut_tratado = marg_recbrut.sort_values(by='Coeficiente', ascending=False).reset_index().head(30)\n",
    "marg_recbrut_tratado"
   ],
   "metadata": {
    "collapsed": false
   },
   "id": "b7fb3639c4c2c6b8",
   "execution_count": null
  },
  {
   "cell_type": "code",
   "outputs": [],
   "source": [
    "#agrupa os valores com a MAIOR MARGEM\n",
    "grouped_sams = sams.groupby(['item_id', 'item_descricao'])\n",
    "agg_sams = grouped_sams.agg({'receita_bruta': 'sum', 'item_unidade': 'sum', 'margem': 'sum'})\n",
    "top10_agrupado = agg_sams.sort_values(by='margem', ascending=False).reset_index().head(15)\n",
    "\n",
    "# cria a coluna de coeficiente de margem\n",
    "marg_recbrut = top10_agrupado\n",
    "marg_recbrut['Coeficiente'] = marg_recbrut['margem']/marg_recbrut['item_unidade']\n",
    "marg_recbrut_tratado = marg_recbrut.sort_values(by='Coeficiente', ascending=False).reset_index().head(16)\n",
    "marg_recbrut_tratado"
   ],
   "metadata": {
    "collapsed": false
   },
   "id": "d11T7oABCc8l",
   "execution_count": null
  },
  {
   "cell_type": "code",
   "outputs": [],
   "source": [
    "\n",
    "#PARA QUALQUER ITEM - APENAS TROQUE VALOR DE X PELO CODIGO DO ITEM\n",
    "#Encontra por comparacao de tickets unicos os 15 items mais comprados junto com os 10 itens mais relevantes\n",
    "\n",
    "X = 1215826 # DIGITE O CODIGO DO ITEM TOP 10\n",
    "\n",
    "encont_tickets = sams[sams['item_id'] == X]['ticket'].unique()\n",
    "filtered_encont_tickets = sams[sams['ticket'].isin(encont_tickets)]\n",
    "vazio = pd.DataFrame()\n",
    "\n",
    "\n",
    "#Encontrar os 15 itens mais comprados com o item escolhido do top5 os possíveis combos duplos\n",
    "classificacao = filtered_encont_tickets.sort_values('item_unidade', ascending=False)\n",
    "sams_simples = classificacao.drop(['socio', 'ticket', 'id_clube','periodo'], axis=1)\n",
    "sams_simples_group = sams_simples.groupby(['item_id', 'item_descricao'])\n",
    "sams_simples_agg = sams_simples_group.agg({'receita_bruta': 'sum', 'item_unidade': 'sum', 'margem': 'sum'})\n",
    "sams_simples_tratado = sams_simples_agg.sort_values(by='item_unidade', ascending=False).reset_index().drop(0).head(15)\n",
    "item_unico = sams.loc[sams['item_id'] == X, 'item_descricao'].values[0]\n",
    "sams_simples_tratado['combo'] = item_unico + ' + ' + sams_simples_tratado['item_descricao']\n",
    "sams_simples_tratado['Condicional'] = item_unico\n",
    "sams_simples_tratado\n",
    "\n",
    "\n"
   ],
   "metadata": {
    "colab": {
     "base_uri": "https://localhost:8080/",
     "height": 520
    },
    "id": "220bf82ce353e02c",
    "outputId": "ad6171d3-8b97-4314-e1ca-b740e037095b"
   },
   "id": "220bf82ce353e02c",
   "execution_count": null
  },
  {
   "cell_type": "code",
   "source": [
    "\n",
    "X = 1228155 # item_id do item\n",
    "n_top_items = 3 # numero de itens no combo\n",
    "\n",
    "# encontra tickets unicos com o item X\n",
    "encont_tickets = sams[sams['item_id'] == X]['ticket'].unique()\n",
    "filtered_encont_tickets = sams[sams['ticket'].isin(encont_tickets)]\n",
    "\n",
    "# Cria a classificao consequente da escolha de X\n",
    "classification = filtered_encont_tickets.sort_values('item_unidade', ascending=False)\n",
    "sams_simples = classification.drop(['socio', 'ticket', 'id_clube','periodo'], axis=1)\n",
    "sams_simples_group = sams_simples.groupby(['item_id', 'item_descricao'])\n",
    "sams_simples_agg = sams_simples_group.agg({'receita_bruta': 'sum', 'item_unidade': 'sum', 'margem': 'sum'})\n",
    "sams_simples_sorted = sams_simples_agg.sort_values(by='item_unidade', ascending=False).reset_index()\n",
    "\n",
    "# Remove o item X\n",
    "sams_simples_sorted = sams_simples_sorted[sams_simples_sorted['item_id'] != X]\n",
    "\n",
    "# pega os top itens\n",
    "top_items = sams_simples_sorted.head(n_top_items)\n",
    "\n",
    "# pega a descricao do item X\n",
    "main_item_desc = sams.loc[sams['item_id'] == X, 'item_descricao'].values[0]\n",
    "\n",
    "# cria o combo custom\n",
    "top_items_desc = ' + '.join(top_items['item_descricao'])\n",
    "custom_combo = main_item_desc + ' + ' + top_items_desc\n",
    "\n",
    "print(custom_combo)"
   ],
   "metadata": {
    "colab": {
     "base_uri": "https://localhost:8080/"
    },
    "id": "XU_Mc-A4z0mc",
    "outputId": "8d039c41-d812-4d25-823a-5b58d5dd24c0"
   },
   "id": "XU_Mc-A4z0mc",
   "execution_count": null,
   "outputs": []
  },
  {
   "cell_type": "code",
   "source": [
    "from mlxtend.preprocessing import TransactionEncoder\n",
    "import pandas as pd\n",
    "\n",
    "# Extraindo uma lista de transacoes do ticket x item_id\n",
    "transactions = sams.groupby('ticket')['item_id'].apply(list).tolist()\n",
    "\n",
    "# One-hot encoding\n",
    "encoder = TransactionEncoder()\n",
    "encoded_transactions = encoder.fit_transform(transactions)\n",
    "df_transactions = pd.DataFrame(encoded_transactions, columns=encoder.columns_)\n",
    "\n",
    "from mlxtend.frequent_patterns import apriori\n",
    "\n",
    "# Ajuste min_support como for preciso para encontrar itemsets relevantes. O meu foi limitado pelo processamento do computador.\n",
    "frequent_itemsets = apriori(df_transactions, min_support=0.01, use_colnames=True)\n",
    "\n",
    "from mlxtend.frequent_patterns import association_rules\n",
    "\n",
    "# Cria as regras, ajuste a precisão do min_threshold de acordo com a vontade. O meu ficou limitado pelo processamento do meu computador. \n",
    "rules = association_rules(frequent_itemsets, metric=\"confidence\", min_threshold=0.1)\n",
    "\n",
    "\n",
    "# garanta que o valor seja em string\n",
    "X = 1215794  # The item of interest\n",
    "rules['antecedents'] = rules['antecedents'].apply(lambda x: set(map(str, x)))\n",
    "\n",
    "# se item_ids inteiros, entao os transforme em string se usar antecedents em string\n",
    "filtered_rules = rules[rules['antecedents'] == {str(X)}]\n",
    "\n",
    "# classifica pela metrica de interesse, nesse caso setamos 'confidence'\n",
    "filtered_rules_sorted = filtered_rules.sort_values(by='confidence', ascending=False)\n",
    "\n",
    "# Mostra as metricas resultantes\n",
    "print(filtered_rules_sorted)\n"
   ],
   "metadata": {
    "id": "K0VMmuCSF2oF"
   },
   "id": "K0VMmuCSF2oF",
   "execution_count": null,
   "outputs": []
  }
 ],
 "metadata": {
  "kernelspec": {
   "display_name": "Python 3",
   "language": "python",
   "name": "python3"
  },
  "language_info": {
   "codemirror_mode": {
    "name": "ipython",
    "version": 2
   },
   "file_extension": ".py",
   "mimetype": "text/x-python",
   "name": "python",
   "nbconvert_exporter": "python",
   "pygments_lexer": "ipython2",
   "version": "2.7.6"
  },
  "colab": {
   "provenance": []
  }
 },
 "nbformat": 4,
 "nbformat_minor": 5
}
