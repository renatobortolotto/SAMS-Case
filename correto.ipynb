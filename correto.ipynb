{
 "cells": [
  {
   "cell_type": "code",
   "outputs": [],
   "source": [
    "    #imports padrão\n",
    "import numpy as np\n",
    "import pandas as pd\n",
    "import matplotlib.pyplot as plt\n",
    "import seaborn as sns\n",
    "import scipy\n"
   ],
   "metadata": {
    "id": "e7cbfc55cf0245cf",
    "ExecuteTime": {
     "end_time": "2024-02-17T14:05:50.491166100Z",
     "start_time": "2024-02-17T14:05:50.487120800Z"
    }
   },
   "id": "e7cbfc55cf0245cf",
   "execution_count": 2
  },
  {
   "cell_type": "code",
   "outputs": [
    {
     "data": {
      "text/plain": "           periodo  id_clube              socio canal  \\\n0       2022-01-10      5235  45765100809381908  PISO   \n1       2022-01-10      5235  45766100903265726  PISO   \n2       2022-01-10      5235  45765100815078019  PISO   \n3       2022-01-10      5235  45766100904345030  PISO   \n4       2022-01-10      5235  45766100903286284  PISO   \n...            ...       ...                ...   ...   \n878591  2022-01-12      7780  45752200200689222  PISO   \n878592  2022-01-12      7780  45752100207181231  PISO   \n878593  2022-01-12      7780  45765100803107283  PISO   \n878594  2022-01-12      7780  45752220207119702  PISO   \n878595  2022-01-12      7780  45752100210188207  PISO   \n\n                           ticket       departamento  item_id  \\\n0       4576510080938190820220110     BAZAR E TÊXTIL  1259475   \n1       4576610090326572620220110     BAZAR E TÊXTIL  1259475   \n2       4576510081507801920220110     BAZAR E TÊXTIL  1225017   \n3       4576610090434503020220110     BAZAR E TÊXTIL  1216504   \n4       4576610090328628420220110     BAZAR E TÊXTIL  1259473   \n...                           ...                ...      ...   \n878591  4575220020068922220220112  HIGIENE E LIMPEZA  1235849   \n878592  4575210020718123120220112  HIGIENE E LIMPEZA  1235849   \n878593  4576510080310728320220112  HIGIENE E LIMPEZA  1235849   \n878594  4575222020711970220220112  HIGIENE E LIMPEZA  1235849   \n878595  4575210021018820720220112  HIGIENE E LIMPEZA  1235849   \n\n                             item_descricao  item_unidade  receita_bruta  \\\n0                                    CALCAO             2          81.17   \n1                                    CALCAO             1          41.27   \n2                              CHAPEU PRAIA             1          51.27   \n3                            BANCO DOBRAVEL             1          81.34   \n4                           BERMUDA MOLETOM             2         201.17   \n...                                     ...           ...            ...   \n878591  YPE CONCENTRAD BLUE AMACIANTE 1.5LT             1          21.36   \n878592  YPE CONCENTRAD BLUE AMACIANTE 1.5LT             1          21.36   \n878593  YPE CONCENTRAD BLUE AMACIANTE 1.5LT             1          21.36   \n878594  YPE CONCENTRAD BLUE AMACIANTE 1.5LT             1          21.36   \n878595  YPE CONCENTRAD BLUE AMACIANTE 1.5LT             1          21.36   \n\n        margem  \n0        22.43  \n1        11.90  \n2        11.10  \n3        22.93  \n4        46.37  \n...        ...  \n878591    5.05  \n878592    5.05  \n878593    5.05  \n878594    5.05  \n878595    5.05  \n\n[878596 rows x 11 columns]",
      "text/html": "<div>\n<style scoped>\n    .dataframe tbody tr th:only-of-type {\n        vertical-align: middle;\n    }\n\n    .dataframe tbody tr th {\n        vertical-align: top;\n    }\n\n    .dataframe thead th {\n        text-align: right;\n    }\n</style>\n<table border=\"1\" class=\"dataframe\">\n  <thead>\n    <tr style=\"text-align: right;\">\n      <th></th>\n      <th>periodo</th>\n      <th>id_clube</th>\n      <th>socio</th>\n      <th>canal</th>\n      <th>ticket</th>\n      <th>departamento</th>\n      <th>item_id</th>\n      <th>item_descricao</th>\n      <th>item_unidade</th>\n      <th>receita_bruta</th>\n      <th>margem</th>\n    </tr>\n  </thead>\n  <tbody>\n    <tr>\n      <th>0</th>\n      <td>2022-01-10</td>\n      <td>5235</td>\n      <td>45765100809381908</td>\n      <td>PISO</td>\n      <td>4576510080938190820220110</td>\n      <td>BAZAR E TÊXTIL</td>\n      <td>1259475</td>\n      <td>CALCAO</td>\n      <td>2</td>\n      <td>81.17</td>\n      <td>22.43</td>\n    </tr>\n    <tr>\n      <th>1</th>\n      <td>2022-01-10</td>\n      <td>5235</td>\n      <td>45766100903265726</td>\n      <td>PISO</td>\n      <td>4576610090326572620220110</td>\n      <td>BAZAR E TÊXTIL</td>\n      <td>1259475</td>\n      <td>CALCAO</td>\n      <td>1</td>\n      <td>41.27</td>\n      <td>11.90</td>\n    </tr>\n    <tr>\n      <th>2</th>\n      <td>2022-01-10</td>\n      <td>5235</td>\n      <td>45765100815078019</td>\n      <td>PISO</td>\n      <td>4576510081507801920220110</td>\n      <td>BAZAR E TÊXTIL</td>\n      <td>1225017</td>\n      <td>CHAPEU PRAIA</td>\n      <td>1</td>\n      <td>51.27</td>\n      <td>11.10</td>\n    </tr>\n    <tr>\n      <th>3</th>\n      <td>2022-01-10</td>\n      <td>5235</td>\n      <td>45766100904345030</td>\n      <td>PISO</td>\n      <td>4576610090434503020220110</td>\n      <td>BAZAR E TÊXTIL</td>\n      <td>1216504</td>\n      <td>BANCO DOBRAVEL</td>\n      <td>1</td>\n      <td>81.34</td>\n      <td>22.93</td>\n    </tr>\n    <tr>\n      <th>4</th>\n      <td>2022-01-10</td>\n      <td>5235</td>\n      <td>45766100903286284</td>\n      <td>PISO</td>\n      <td>4576610090328628420220110</td>\n      <td>BAZAR E TÊXTIL</td>\n      <td>1259473</td>\n      <td>BERMUDA MOLETOM</td>\n      <td>2</td>\n      <td>201.17</td>\n      <td>46.37</td>\n    </tr>\n    <tr>\n      <th>...</th>\n      <td>...</td>\n      <td>...</td>\n      <td>...</td>\n      <td>...</td>\n      <td>...</td>\n      <td>...</td>\n      <td>...</td>\n      <td>...</td>\n      <td>...</td>\n      <td>...</td>\n      <td>...</td>\n    </tr>\n    <tr>\n      <th>878591</th>\n      <td>2022-01-12</td>\n      <td>7780</td>\n      <td>45752200200689222</td>\n      <td>PISO</td>\n      <td>4575220020068922220220112</td>\n      <td>HIGIENE E LIMPEZA</td>\n      <td>1235849</td>\n      <td>YPE CONCENTRAD BLUE AMACIANTE 1.5LT</td>\n      <td>1</td>\n      <td>21.36</td>\n      <td>5.05</td>\n    </tr>\n    <tr>\n      <th>878592</th>\n      <td>2022-01-12</td>\n      <td>7780</td>\n      <td>45752100207181231</td>\n      <td>PISO</td>\n      <td>4575210020718123120220112</td>\n      <td>HIGIENE E LIMPEZA</td>\n      <td>1235849</td>\n      <td>YPE CONCENTRAD BLUE AMACIANTE 1.5LT</td>\n      <td>1</td>\n      <td>21.36</td>\n      <td>5.05</td>\n    </tr>\n    <tr>\n      <th>878593</th>\n      <td>2022-01-12</td>\n      <td>7780</td>\n      <td>45765100803107283</td>\n      <td>PISO</td>\n      <td>4576510080310728320220112</td>\n      <td>HIGIENE E LIMPEZA</td>\n      <td>1235849</td>\n      <td>YPE CONCENTRAD BLUE AMACIANTE 1.5LT</td>\n      <td>1</td>\n      <td>21.36</td>\n      <td>5.05</td>\n    </tr>\n    <tr>\n      <th>878594</th>\n      <td>2022-01-12</td>\n      <td>7780</td>\n      <td>45752220207119702</td>\n      <td>PISO</td>\n      <td>4575222020711970220220112</td>\n      <td>HIGIENE E LIMPEZA</td>\n      <td>1235849</td>\n      <td>YPE CONCENTRAD BLUE AMACIANTE 1.5LT</td>\n      <td>1</td>\n      <td>21.36</td>\n      <td>5.05</td>\n    </tr>\n    <tr>\n      <th>878595</th>\n      <td>2022-01-12</td>\n      <td>7780</td>\n      <td>45752100210188207</td>\n      <td>PISO</td>\n      <td>4575210021018820720220112</td>\n      <td>HIGIENE E LIMPEZA</td>\n      <td>1235849</td>\n      <td>YPE CONCENTRAD BLUE AMACIANTE 1.5LT</td>\n      <td>1</td>\n      <td>21.36</td>\n      <td>5.05</td>\n    </tr>\n  </tbody>\n</table>\n<p>878596 rows × 11 columns</p>\n</div>"
     },
     "execution_count": 3,
     "metadata": {},
     "output_type": "execute_result"
    }
   ],
   "source": [
    "    #ler o CSV\n",
    "sams = pd.read_csv('C:\\\\Users\\\\Renato\\\\Downloads\\\\Case Analytics Engineer Sam\\'s Club\\\\CASE_PRATICO_SAMS_CLUB.csv')\n",
    "sams"
   ],
   "metadata": {
    "colab": {
     "base_uri": "https://localhost:8080/",
     "height": 424
    },
    "id": "4b8db9bcb8b51c76",
    "outputId": "87c12ef5-dde7-4437-fb80-41b4f9ef3505",
    "ExecuteTime": {
     "end_time": "2024-02-17T14:05:52.587367400Z",
     "start_time": "2024-02-17T14:05:51.662333Z"
    }
   },
   "id": "4b8db9bcb8b51c76",
   "execution_count": 3
  },
  {
   "cell_type": "code",
   "outputs": [
    {
     "data": {
      "text/plain": "    item_id                       item_descricao  receita_bruta  item_unidade  \\\n0   1235047                FILE MIGN S CORDAO KG      248814.52          3699   \n1   1239523      CHOC JACQUES MOUSSE MILK 2X160G       22048.76          1489   \n2   1224697    ENFAMIL 2 FORMULA INFANTIL 2X800G        3479.03           150   \n3   1216755         REF GUAR ANTARCTICA 12X350ML       15254.05          1097   \n4   1224698         APTAMIL PREMIUM 1 PACK 1500G        9201.35           288   \n5   1261392  CHOCOLATE SALTY CRUNCHY SORINI 170G       15085.43          1393   \n6   1216286       CERV HEINEKEN ZERO LT 12X350ML        9573.94           343   \n7   1234607         QUEIJO MINAS FRESCAL TINA KG        5816.02           639   \n8   1228174   OMO LAVA ROUPAS LAVAG PERFEITA 5LT      160340.97          3890   \n9   1237030  PICANHA BOVINO RESF PICANHA BOVI KG       17123.09           318   \n10  1245331  CAFE 3 CORAC GOURMET CER MOG 2X250G        8791.20           803   \n11  1259253        PANETTONE FRUTAS COM LACO 1KG        7776.83           474   \n12  1263325      ARCOND INV VOICE 12000 FRIO INT          12.42            10   \n13  1235242     LING TIPO CALABRESA SEARA 2.5 KG        8706.50           269   \n14  1216239     CERV BECKS PURO MALTE LT 8X350ML       13517.51           541   \n\n      margem  \n0  -53883.16  \n1  -17444.64  \n2  -13163.13  \n3  -10648.59  \n4   -8993.38  \n5   -7531.70  \n6   -6760.05  \n7   -6644.93  \n8   -6534.55  \n9   -5915.46  \n10  -5807.03  \n11  -5763.07  \n12  -5753.40  \n13  -5660.19  \n14  -5512.97  ",
      "text/html": "<div>\n<style scoped>\n    .dataframe tbody tr th:only-of-type {\n        vertical-align: middle;\n    }\n\n    .dataframe tbody tr th {\n        vertical-align: top;\n    }\n\n    .dataframe thead th {\n        text-align: right;\n    }\n</style>\n<table border=\"1\" class=\"dataframe\">\n  <thead>\n    <tr style=\"text-align: right;\">\n      <th></th>\n      <th>item_id</th>\n      <th>item_descricao</th>\n      <th>receita_bruta</th>\n      <th>item_unidade</th>\n      <th>margem</th>\n    </tr>\n  </thead>\n  <tbody>\n    <tr>\n      <th>0</th>\n      <td>1235047</td>\n      <td>FILE MIGN S CORDAO KG</td>\n      <td>248814.52</td>\n      <td>3699</td>\n      <td>-53883.16</td>\n    </tr>\n    <tr>\n      <th>1</th>\n      <td>1239523</td>\n      <td>CHOC JACQUES MOUSSE MILK 2X160G</td>\n      <td>22048.76</td>\n      <td>1489</td>\n      <td>-17444.64</td>\n    </tr>\n    <tr>\n      <th>2</th>\n      <td>1224697</td>\n      <td>ENFAMIL 2 FORMULA INFANTIL 2X800G</td>\n      <td>3479.03</td>\n      <td>150</td>\n      <td>-13163.13</td>\n    </tr>\n    <tr>\n      <th>3</th>\n      <td>1216755</td>\n      <td>REF GUAR ANTARCTICA 12X350ML</td>\n      <td>15254.05</td>\n      <td>1097</td>\n      <td>-10648.59</td>\n    </tr>\n    <tr>\n      <th>4</th>\n      <td>1224698</td>\n      <td>APTAMIL PREMIUM 1 PACK 1500G</td>\n      <td>9201.35</td>\n      <td>288</td>\n      <td>-8993.38</td>\n    </tr>\n    <tr>\n      <th>5</th>\n      <td>1261392</td>\n      <td>CHOCOLATE SALTY CRUNCHY SORINI 170G</td>\n      <td>15085.43</td>\n      <td>1393</td>\n      <td>-7531.70</td>\n    </tr>\n    <tr>\n      <th>6</th>\n      <td>1216286</td>\n      <td>CERV HEINEKEN ZERO LT 12X350ML</td>\n      <td>9573.94</td>\n      <td>343</td>\n      <td>-6760.05</td>\n    </tr>\n    <tr>\n      <th>7</th>\n      <td>1234607</td>\n      <td>QUEIJO MINAS FRESCAL TINA KG</td>\n      <td>5816.02</td>\n      <td>639</td>\n      <td>-6644.93</td>\n    </tr>\n    <tr>\n      <th>8</th>\n      <td>1228174</td>\n      <td>OMO LAVA ROUPAS LAVAG PERFEITA 5LT</td>\n      <td>160340.97</td>\n      <td>3890</td>\n      <td>-6534.55</td>\n    </tr>\n    <tr>\n      <th>9</th>\n      <td>1237030</td>\n      <td>PICANHA BOVINO RESF PICANHA BOVI KG</td>\n      <td>17123.09</td>\n      <td>318</td>\n      <td>-5915.46</td>\n    </tr>\n    <tr>\n      <th>10</th>\n      <td>1245331</td>\n      <td>CAFE 3 CORAC GOURMET CER MOG 2X250G</td>\n      <td>8791.20</td>\n      <td>803</td>\n      <td>-5807.03</td>\n    </tr>\n    <tr>\n      <th>11</th>\n      <td>1259253</td>\n      <td>PANETTONE FRUTAS COM LACO 1KG</td>\n      <td>7776.83</td>\n      <td>474</td>\n      <td>-5763.07</td>\n    </tr>\n    <tr>\n      <th>12</th>\n      <td>1263325</td>\n      <td>ARCOND INV VOICE 12000 FRIO INT</td>\n      <td>12.42</td>\n      <td>10</td>\n      <td>-5753.40</td>\n    </tr>\n    <tr>\n      <th>13</th>\n      <td>1235242</td>\n      <td>LING TIPO CALABRESA SEARA 2.5 KG</td>\n      <td>8706.50</td>\n      <td>269</td>\n      <td>-5660.19</td>\n    </tr>\n    <tr>\n      <th>14</th>\n      <td>1216239</td>\n      <td>CERV BECKS PURO MALTE LT 8X350ML</td>\n      <td>13517.51</td>\n      <td>541</td>\n      <td>-5512.97</td>\n    </tr>\n  </tbody>\n</table>\n</div>"
     },
     "execution_count": 76,
     "metadata": {},
     "output_type": "execute_result"
    }
   ],
   "source": [
    "# Agrupa 10 valores com a menor MARGEM\n",
    "\n",
    "grouped_sams_lowest = sams.groupby(['item_id', 'item_descricao'])\n",
    "agg_sams_lowest = grouped_sams_lowest.agg({'receita_bruta': 'sum', 'item_unidade': 'sum', 'margem': 'sum'})\n",
    "menores_margens = agg_sams_lowest.sort_values(by='margem', ascending=True).reset_index().head(15)\n",
    "menores_margens\n"
   ],
   "metadata": {
    "collapsed": false,
    "ExecuteTime": {
     "end_time": "2024-02-18T01:45:28.108204700Z",
     "start_time": "2024-02-18T01:45:27.924167Z"
    }
   },
   "id": "de60742532ccd057",
   "execution_count": 76
  },
  {
   "cell_type": "code",
   "outputs": [
    {
     "data": {
      "text/plain": "    index       departamento     periodo  item_id  \\\n0       4     BAZAR E TÊXTIL  2022-01-12  1228155   \n1       3     BAZAR E TÊXTIL  2022-01-10  1228155   \n2       6     BAZAR E TÊXTIL  2022-01-11  1228155   \n3      22     BAZAR E TÊXTIL  2022-01-12  1218834   \n4      18     BAZAR E TÊXTIL  2022-01-10  1218834   \n5      29          MERCEARIA  2022-01-10  1237564   \n6      24     BAZAR E TÊXTIL  2022-01-11  1218834   \n7       1  HIGIENE E LIMPEZA  2022-01-12  1215823   \n8       2  HIGIENE E LIMPEZA  2022-01-11  1215823   \n9       0  HIGIENE E LIMPEZA  2022-01-10  1215823   \n10     26          MERCEARIA  2022-01-11  1237563   \n11     27          MERCEARIA  2022-01-12  1239620   \n12     20  HIGIENE E LIMPEZA  2022-01-12  1215826   \n13     21  HIGIENE E LIMPEZA  2022-01-11  1215826   \n14     25    SERVICO DIGITAL  2022-01-11  1256746   \n15     19    SERVICO DIGITAL  2022-01-10  1256746   \n16      7  HIGIENE E LIMPEZA  2022-01-12  1215821   \n17     10  HIGIENE E LIMPEZA  2022-01-11  1215821   \n18     11  HIGIENE E LIMPEZA  2022-01-10  1215821   \n19     13            BEBIDAS  2022-01-12  1230491   \n20     12            BEBIDAS  2022-01-11  1230491   \n21      9  HIGIENE E LIMPEZA  2022-01-12  1215794   \n22      8  HIGIENE E LIMPEZA  2022-01-10  1215794   \n23      5  HIGIENE E LIMPEZA  2022-01-11  1215794   \n24     14            BEBIDAS  2022-01-10  1230491   \n25     23          MERCEARIA  2022-01-12  1237546   \n26     28          MERCEARIA  2022-01-11  1237546   \n27     17  HIGIENE E LIMPEZA  2022-01-11  1258462   \n28     16  HIGIENE E LIMPEZA  2022-01-10  1258462   \n29     15  HIGIENE E LIMPEZA  2022-01-12  1258462   \n\n                         item_descricao  receita_bruta  item_unidade  \\\n0          TAPETE MEMBERS MARK COM 80UN       60961.74           321   \n1          TAPETE MEMBERS MARK COM 80UN       61105.35           322   \n2          TAPETE MEMBERS MARK COM 80UN       52507.87           277   \n3           CONJ POTES EM VIDRO 6 PECAS       29986.56           297   \n4           CONJ POTES EM VIDRO 6 PECAS       34426.15           342   \n5             AZEITE EV ESPANHOL 2LT MM       24178.57           273   \n6           CONJ POTES EM VIDRO 6 PECAS       29368.28           293   \n7       PH PERSONAL VIP FD 40 ROLOSX30M       66485.30          1256   \n8       PH PERSONAL VIP FD 40 ROLOSX30M       65184.77          1240   \n9       PH PERSONAL VIP FD 40 ROLOSX30M       76099.52          1475   \n10            AZEITE EV ESPANHOL 1LT MM       21850.24           450   \n11        AZEITE RAHMA EXTRA VIRGEM 1LT       19581.21           512   \n12   PH ROYAL CARE FD FD 40 ROLOS X 30M       29023.72           581   \n13   PH ROYAL CARE FD FD 40 ROLOS X 30M       28855.25           577   \n14                                FRETE        6646.95           540   \n15                                FRETE        7678.28           626   \n16              PH NEVE FT 20M L32P28UN       77793.89          1558   \n17              PH NEVE FT 20M L32P28UN       67713.20          1357   \n18              PH NEVE FT 20M L32P28UN       66098.18          1327   \n19             CERV HEINEKEN LN 6X330ML       55427.35          1626   \n20             CERV HEINEKEN LN 6X330ML       64544.57          1962   \n21  PAPEL TOALHA KITCHEN JUMB FD C360FL       38521.28          2448   \n22  PAPEL TOALHA KITCHEN JUMB FD C360FL       38970.73          2482   \n23  PAPEL TOALHA KITCHEN JUMB FD C360FL       42518.12          2708   \n24             CERV HEINEKEN LN 6X330ML       52860.11          1668   \n25   BISC CH PETIT BEURRE GRIESSON 150G       16013.10          1160   \n26   BISC CH PETIT BEURRE GRIESSON 150G       14952.67          1086   \n27   MM LAVA ROUPAS 5LTS ULTIMATE CLEAN       53264.29          1689   \n28   MM LAVA ROUPAS 5LTS ULTIMATE CLEAN       53598.52          1703   \n29   MM LAVA ROUPAS 5LTS ULTIMATE CLEAN       59173.54          1880   \n\n      margem  Coeficiente  \n0   18282.27    56.954112  \n1   18304.49    56.846242  \n2   15601.67    56.323718  \n3    6777.18    22.818788  \n4    7800.32    22.807953  \n5    6179.28    22.634725  \n6    6532.59    22.295529  \n7   21674.03    17.256393  \n8   20940.94    16.887855  \n9   23413.25    15.873390  \n10   6298.99    13.997756  \n11   6263.27    12.232949  \n12   7028.36    12.097005  \n13   6830.88    11.838614  \n14   6346.94    11.753593  \n15   7309.72    11.676869  \n16  15508.79     9.954294  \n17  13407.60     9.880324  \n18  13045.78     9.831032  \n19  11642.78     7.160381  \n20  12824.05     6.536213  \n21  15087.04     6.163007  \n22  15163.79     6.109504  \n23  16508.79     6.096304  \n24   9637.41     5.777824  \n25   6660.87     5.742129  \n26   6233.21     5.739604  \n27   8542.78     5.057892  \n28   8612.33     5.057152  \n29   9419.12     5.010170  ",
      "text/html": "<div>\n<style scoped>\n    .dataframe tbody tr th:only-of-type {\n        vertical-align: middle;\n    }\n\n    .dataframe tbody tr th {\n        vertical-align: top;\n    }\n\n    .dataframe thead th {\n        text-align: right;\n    }\n</style>\n<table border=\"1\" class=\"dataframe\">\n  <thead>\n    <tr style=\"text-align: right;\">\n      <th></th>\n      <th>index</th>\n      <th>departamento</th>\n      <th>periodo</th>\n      <th>item_id</th>\n      <th>item_descricao</th>\n      <th>receita_bruta</th>\n      <th>item_unidade</th>\n      <th>margem</th>\n      <th>Coeficiente</th>\n    </tr>\n  </thead>\n  <tbody>\n    <tr>\n      <th>0</th>\n      <td>4</td>\n      <td>BAZAR E TÊXTIL</td>\n      <td>2022-01-12</td>\n      <td>1228155</td>\n      <td>TAPETE MEMBERS MARK COM 80UN</td>\n      <td>60961.74</td>\n      <td>321</td>\n      <td>18282.27</td>\n      <td>56.954112</td>\n    </tr>\n    <tr>\n      <th>1</th>\n      <td>3</td>\n      <td>BAZAR E TÊXTIL</td>\n      <td>2022-01-10</td>\n      <td>1228155</td>\n      <td>TAPETE MEMBERS MARK COM 80UN</td>\n      <td>61105.35</td>\n      <td>322</td>\n      <td>18304.49</td>\n      <td>56.846242</td>\n    </tr>\n    <tr>\n      <th>2</th>\n      <td>6</td>\n      <td>BAZAR E TÊXTIL</td>\n      <td>2022-01-11</td>\n      <td>1228155</td>\n      <td>TAPETE MEMBERS MARK COM 80UN</td>\n      <td>52507.87</td>\n      <td>277</td>\n      <td>15601.67</td>\n      <td>56.323718</td>\n    </tr>\n    <tr>\n      <th>3</th>\n      <td>22</td>\n      <td>BAZAR E TÊXTIL</td>\n      <td>2022-01-12</td>\n      <td>1218834</td>\n      <td>CONJ POTES EM VIDRO 6 PECAS</td>\n      <td>29986.56</td>\n      <td>297</td>\n      <td>6777.18</td>\n      <td>22.818788</td>\n    </tr>\n    <tr>\n      <th>4</th>\n      <td>18</td>\n      <td>BAZAR E TÊXTIL</td>\n      <td>2022-01-10</td>\n      <td>1218834</td>\n      <td>CONJ POTES EM VIDRO 6 PECAS</td>\n      <td>34426.15</td>\n      <td>342</td>\n      <td>7800.32</td>\n      <td>22.807953</td>\n    </tr>\n    <tr>\n      <th>5</th>\n      <td>29</td>\n      <td>MERCEARIA</td>\n      <td>2022-01-10</td>\n      <td>1237564</td>\n      <td>AZEITE EV ESPANHOL 2LT MM</td>\n      <td>24178.57</td>\n      <td>273</td>\n      <td>6179.28</td>\n      <td>22.634725</td>\n    </tr>\n    <tr>\n      <th>6</th>\n      <td>24</td>\n      <td>BAZAR E TÊXTIL</td>\n      <td>2022-01-11</td>\n      <td>1218834</td>\n      <td>CONJ POTES EM VIDRO 6 PECAS</td>\n      <td>29368.28</td>\n      <td>293</td>\n      <td>6532.59</td>\n      <td>22.295529</td>\n    </tr>\n    <tr>\n      <th>7</th>\n      <td>1</td>\n      <td>HIGIENE E LIMPEZA</td>\n      <td>2022-01-12</td>\n      <td>1215823</td>\n      <td>PH PERSONAL VIP FD 40 ROLOSX30M</td>\n      <td>66485.30</td>\n      <td>1256</td>\n      <td>21674.03</td>\n      <td>17.256393</td>\n    </tr>\n    <tr>\n      <th>8</th>\n      <td>2</td>\n      <td>HIGIENE E LIMPEZA</td>\n      <td>2022-01-11</td>\n      <td>1215823</td>\n      <td>PH PERSONAL VIP FD 40 ROLOSX30M</td>\n      <td>65184.77</td>\n      <td>1240</td>\n      <td>20940.94</td>\n      <td>16.887855</td>\n    </tr>\n    <tr>\n      <th>9</th>\n      <td>0</td>\n      <td>HIGIENE E LIMPEZA</td>\n      <td>2022-01-10</td>\n      <td>1215823</td>\n      <td>PH PERSONAL VIP FD 40 ROLOSX30M</td>\n      <td>76099.52</td>\n      <td>1475</td>\n      <td>23413.25</td>\n      <td>15.873390</td>\n    </tr>\n    <tr>\n      <th>10</th>\n      <td>26</td>\n      <td>MERCEARIA</td>\n      <td>2022-01-11</td>\n      <td>1237563</td>\n      <td>AZEITE EV ESPANHOL 1LT MM</td>\n      <td>21850.24</td>\n      <td>450</td>\n      <td>6298.99</td>\n      <td>13.997756</td>\n    </tr>\n    <tr>\n      <th>11</th>\n      <td>27</td>\n      <td>MERCEARIA</td>\n      <td>2022-01-12</td>\n      <td>1239620</td>\n      <td>AZEITE RAHMA EXTRA VIRGEM 1LT</td>\n      <td>19581.21</td>\n      <td>512</td>\n      <td>6263.27</td>\n      <td>12.232949</td>\n    </tr>\n    <tr>\n      <th>12</th>\n      <td>20</td>\n      <td>HIGIENE E LIMPEZA</td>\n      <td>2022-01-12</td>\n      <td>1215826</td>\n      <td>PH ROYAL CARE FD FD 40 ROLOS X 30M</td>\n      <td>29023.72</td>\n      <td>581</td>\n      <td>7028.36</td>\n      <td>12.097005</td>\n    </tr>\n    <tr>\n      <th>13</th>\n      <td>21</td>\n      <td>HIGIENE E LIMPEZA</td>\n      <td>2022-01-11</td>\n      <td>1215826</td>\n      <td>PH ROYAL CARE FD FD 40 ROLOS X 30M</td>\n      <td>28855.25</td>\n      <td>577</td>\n      <td>6830.88</td>\n      <td>11.838614</td>\n    </tr>\n    <tr>\n      <th>14</th>\n      <td>25</td>\n      <td>SERVICO DIGITAL</td>\n      <td>2022-01-11</td>\n      <td>1256746</td>\n      <td>FRETE</td>\n      <td>6646.95</td>\n      <td>540</td>\n      <td>6346.94</td>\n      <td>11.753593</td>\n    </tr>\n    <tr>\n      <th>15</th>\n      <td>19</td>\n      <td>SERVICO DIGITAL</td>\n      <td>2022-01-10</td>\n      <td>1256746</td>\n      <td>FRETE</td>\n      <td>7678.28</td>\n      <td>626</td>\n      <td>7309.72</td>\n      <td>11.676869</td>\n    </tr>\n    <tr>\n      <th>16</th>\n      <td>7</td>\n      <td>HIGIENE E LIMPEZA</td>\n      <td>2022-01-12</td>\n      <td>1215821</td>\n      <td>PH NEVE FT 20M L32P28UN</td>\n      <td>77793.89</td>\n      <td>1558</td>\n      <td>15508.79</td>\n      <td>9.954294</td>\n    </tr>\n    <tr>\n      <th>17</th>\n      <td>10</td>\n      <td>HIGIENE E LIMPEZA</td>\n      <td>2022-01-11</td>\n      <td>1215821</td>\n      <td>PH NEVE FT 20M L32P28UN</td>\n      <td>67713.20</td>\n      <td>1357</td>\n      <td>13407.60</td>\n      <td>9.880324</td>\n    </tr>\n    <tr>\n      <th>18</th>\n      <td>11</td>\n      <td>HIGIENE E LIMPEZA</td>\n      <td>2022-01-10</td>\n      <td>1215821</td>\n      <td>PH NEVE FT 20M L32P28UN</td>\n      <td>66098.18</td>\n      <td>1327</td>\n      <td>13045.78</td>\n      <td>9.831032</td>\n    </tr>\n    <tr>\n      <th>19</th>\n      <td>13</td>\n      <td>BEBIDAS</td>\n      <td>2022-01-12</td>\n      <td>1230491</td>\n      <td>CERV HEINEKEN LN 6X330ML</td>\n      <td>55427.35</td>\n      <td>1626</td>\n      <td>11642.78</td>\n      <td>7.160381</td>\n    </tr>\n    <tr>\n      <th>20</th>\n      <td>12</td>\n      <td>BEBIDAS</td>\n      <td>2022-01-11</td>\n      <td>1230491</td>\n      <td>CERV HEINEKEN LN 6X330ML</td>\n      <td>64544.57</td>\n      <td>1962</td>\n      <td>12824.05</td>\n      <td>6.536213</td>\n    </tr>\n    <tr>\n      <th>21</th>\n      <td>9</td>\n      <td>HIGIENE E LIMPEZA</td>\n      <td>2022-01-12</td>\n      <td>1215794</td>\n      <td>PAPEL TOALHA KITCHEN JUMB FD C360FL</td>\n      <td>38521.28</td>\n      <td>2448</td>\n      <td>15087.04</td>\n      <td>6.163007</td>\n    </tr>\n    <tr>\n      <th>22</th>\n      <td>8</td>\n      <td>HIGIENE E LIMPEZA</td>\n      <td>2022-01-10</td>\n      <td>1215794</td>\n      <td>PAPEL TOALHA KITCHEN JUMB FD C360FL</td>\n      <td>38970.73</td>\n      <td>2482</td>\n      <td>15163.79</td>\n      <td>6.109504</td>\n    </tr>\n    <tr>\n      <th>23</th>\n      <td>5</td>\n      <td>HIGIENE E LIMPEZA</td>\n      <td>2022-01-11</td>\n      <td>1215794</td>\n      <td>PAPEL TOALHA KITCHEN JUMB FD C360FL</td>\n      <td>42518.12</td>\n      <td>2708</td>\n      <td>16508.79</td>\n      <td>6.096304</td>\n    </tr>\n    <tr>\n      <th>24</th>\n      <td>14</td>\n      <td>BEBIDAS</td>\n      <td>2022-01-10</td>\n      <td>1230491</td>\n      <td>CERV HEINEKEN LN 6X330ML</td>\n      <td>52860.11</td>\n      <td>1668</td>\n      <td>9637.41</td>\n      <td>5.777824</td>\n    </tr>\n    <tr>\n      <th>25</th>\n      <td>23</td>\n      <td>MERCEARIA</td>\n      <td>2022-01-12</td>\n      <td>1237546</td>\n      <td>BISC CH PETIT BEURRE GRIESSON 150G</td>\n      <td>16013.10</td>\n      <td>1160</td>\n      <td>6660.87</td>\n      <td>5.742129</td>\n    </tr>\n    <tr>\n      <th>26</th>\n      <td>28</td>\n      <td>MERCEARIA</td>\n      <td>2022-01-11</td>\n      <td>1237546</td>\n      <td>BISC CH PETIT BEURRE GRIESSON 150G</td>\n      <td>14952.67</td>\n      <td>1086</td>\n      <td>6233.21</td>\n      <td>5.739604</td>\n    </tr>\n    <tr>\n      <th>27</th>\n      <td>17</td>\n      <td>HIGIENE E LIMPEZA</td>\n      <td>2022-01-11</td>\n      <td>1258462</td>\n      <td>MM LAVA ROUPAS 5LTS ULTIMATE CLEAN</td>\n      <td>53264.29</td>\n      <td>1689</td>\n      <td>8542.78</td>\n      <td>5.057892</td>\n    </tr>\n    <tr>\n      <th>28</th>\n      <td>16</td>\n      <td>HIGIENE E LIMPEZA</td>\n      <td>2022-01-10</td>\n      <td>1258462</td>\n      <td>MM LAVA ROUPAS 5LTS ULTIMATE CLEAN</td>\n      <td>53598.52</td>\n      <td>1703</td>\n      <td>8612.33</td>\n      <td>5.057152</td>\n    </tr>\n    <tr>\n      <th>29</th>\n      <td>15</td>\n      <td>HIGIENE E LIMPEZA</td>\n      <td>2022-01-12</td>\n      <td>1258462</td>\n      <td>MM LAVA ROUPAS 5LTS ULTIMATE CLEAN</td>\n      <td>59173.54</td>\n      <td>1880</td>\n      <td>9419.12</td>\n      <td>5.010170</td>\n    </tr>\n  </tbody>\n</table>\n</div>"
     },
     "execution_count": 78,
     "metadata": {},
     "output_type": "execute_result"
    }
   ],
   "source": [
    "#agrupa os valores com a MAIOR MARGEM\n",
    "grouped_sams = sams.groupby(['departamento','periodo', 'item_id', 'item_descricao'])\n",
    "agg_sams = grouped_sams.agg({'receita_bruta': 'sum', 'item_unidade': 'sum', 'margem': 'sum'})\n",
    "top10_agrupado = agg_sams.sort_values(by='margem', ascending=False).reset_index().head(30)\n",
    "\n",
    "# cria a coluna de coeficiente de margem\n",
    "marg_recbrut = top10_agrupado\n",
    "marg_recbrut['Coeficiente'] = marg_recbrut['margem']/marg_recbrut['item_unidade']\n",
    "marg_recbrut_tratado = marg_recbrut.sort_values(by='Coeficiente', ascending=False).reset_index().head(30)\n",
    "marg_recbrut_tratado"
   ],
   "metadata": {
    "collapsed": false,
    "ExecuteTime": {
     "end_time": "2024-02-18T01:46:03.923131800Z",
     "start_time": "2024-02-18T01:46:03.671467500Z"
    }
   },
   "id": "b7fb3639c4c2c6b8",
   "execution_count": 78
  },
  {
   "cell_type": "code",
   "outputs": [
    {
     "data": {
      "text/plain": "    index  item_id                       item_descricao  receita_bruta  \\\n0       1  1228155         TAPETE MEMBERS MARK COM 80UN      174574.96   \n1      11  1237564            AZEITE EV ESPANHOL 2LT MM       59977.78   \n2       6  1218834          CONJ POTES EM VIDRO 6 PECAS       93780.99   \n3       0  1215823      PH PERSONAL VIP FD 40 ROLOSX30M      207769.59   \n4      14  1237563            AZEITE EV ESPANHOL 1LT MM       50445.12   \n5      12  1239620        AZEITE RAHMA EXTRA VIRGEM 1LT       45063.32   \n6       8  1215826   PH ROYAL CARE FD FD 40 ROLOS X 30M       81157.76   \n7       7  1256746                                FRETE       20608.84   \n8       3  1215821              PH NEVE FT 20M L32P28UN      211605.27   \n9       4  1230491             CERV HEINEKEN LN 6X330ML      172832.03   \n10      2  1215794  PAPEL TOALHA KITCHEN JUMB FD C360FL      120010.13   \n11      9  1237546   BISC CH PETIT BEURRE GRIESSON 150G       45835.94   \n12      5  1258462   MM LAVA ROUPAS 5LTS ULTIMATE CLEAN      166036.35   \n13     13  1234326             PAO FRANCES MEMBERS MARK       25911.17   \n14     10  1236279            SACOLA PLASTICA MM BRANCA       26113.88   \n\n    item_unidade    margem  Coeficiente  \n0            920  52188.43    56.726554  \n1            669  15775.40    23.580568  \n2            932  21110.09    22.650311  \n3           3971  66028.22    16.627605  \n4           1049  14146.37    13.485577  \n5           1183  14902.45    12.597168  \n6           1626  19243.67    11.834975  \n7           1678  19573.89    11.665012  \n8           4242  41962.17     9.892072  \n9           5256  34104.24     6.488630  \n10          7638  46759.62     6.121972  \n11          3331  18997.55     5.703257  \n12          5272  26574.23     5.040635  \n13          4749  14775.75     3.111339  \n14         29174  17074.87     0.585277  ",
      "text/html": "<div>\n<style scoped>\n    .dataframe tbody tr th:only-of-type {\n        vertical-align: middle;\n    }\n\n    .dataframe tbody tr th {\n        vertical-align: top;\n    }\n\n    .dataframe thead th {\n        text-align: right;\n    }\n</style>\n<table border=\"1\" class=\"dataframe\">\n  <thead>\n    <tr style=\"text-align: right;\">\n      <th></th>\n      <th>index</th>\n      <th>item_id</th>\n      <th>item_descricao</th>\n      <th>receita_bruta</th>\n      <th>item_unidade</th>\n      <th>margem</th>\n      <th>Coeficiente</th>\n    </tr>\n  </thead>\n  <tbody>\n    <tr>\n      <th>0</th>\n      <td>1</td>\n      <td>1228155</td>\n      <td>TAPETE MEMBERS MARK COM 80UN</td>\n      <td>174574.96</td>\n      <td>920</td>\n      <td>52188.43</td>\n      <td>56.726554</td>\n    </tr>\n    <tr>\n      <th>1</th>\n      <td>11</td>\n      <td>1237564</td>\n      <td>AZEITE EV ESPANHOL 2LT MM</td>\n      <td>59977.78</td>\n      <td>669</td>\n      <td>15775.40</td>\n      <td>23.580568</td>\n    </tr>\n    <tr>\n      <th>2</th>\n      <td>6</td>\n      <td>1218834</td>\n      <td>CONJ POTES EM VIDRO 6 PECAS</td>\n      <td>93780.99</td>\n      <td>932</td>\n      <td>21110.09</td>\n      <td>22.650311</td>\n    </tr>\n    <tr>\n      <th>3</th>\n      <td>0</td>\n      <td>1215823</td>\n      <td>PH PERSONAL VIP FD 40 ROLOSX30M</td>\n      <td>207769.59</td>\n      <td>3971</td>\n      <td>66028.22</td>\n      <td>16.627605</td>\n    </tr>\n    <tr>\n      <th>4</th>\n      <td>14</td>\n      <td>1237563</td>\n      <td>AZEITE EV ESPANHOL 1LT MM</td>\n      <td>50445.12</td>\n      <td>1049</td>\n      <td>14146.37</td>\n      <td>13.485577</td>\n    </tr>\n    <tr>\n      <th>5</th>\n      <td>12</td>\n      <td>1239620</td>\n      <td>AZEITE RAHMA EXTRA VIRGEM 1LT</td>\n      <td>45063.32</td>\n      <td>1183</td>\n      <td>14902.45</td>\n      <td>12.597168</td>\n    </tr>\n    <tr>\n      <th>6</th>\n      <td>8</td>\n      <td>1215826</td>\n      <td>PH ROYAL CARE FD FD 40 ROLOS X 30M</td>\n      <td>81157.76</td>\n      <td>1626</td>\n      <td>19243.67</td>\n      <td>11.834975</td>\n    </tr>\n    <tr>\n      <th>7</th>\n      <td>7</td>\n      <td>1256746</td>\n      <td>FRETE</td>\n      <td>20608.84</td>\n      <td>1678</td>\n      <td>19573.89</td>\n      <td>11.665012</td>\n    </tr>\n    <tr>\n      <th>8</th>\n      <td>3</td>\n      <td>1215821</td>\n      <td>PH NEVE FT 20M L32P28UN</td>\n      <td>211605.27</td>\n      <td>4242</td>\n      <td>41962.17</td>\n      <td>9.892072</td>\n    </tr>\n    <tr>\n      <th>9</th>\n      <td>4</td>\n      <td>1230491</td>\n      <td>CERV HEINEKEN LN 6X330ML</td>\n      <td>172832.03</td>\n      <td>5256</td>\n      <td>34104.24</td>\n      <td>6.488630</td>\n    </tr>\n    <tr>\n      <th>10</th>\n      <td>2</td>\n      <td>1215794</td>\n      <td>PAPEL TOALHA KITCHEN JUMB FD C360FL</td>\n      <td>120010.13</td>\n      <td>7638</td>\n      <td>46759.62</td>\n      <td>6.121972</td>\n    </tr>\n    <tr>\n      <th>11</th>\n      <td>9</td>\n      <td>1237546</td>\n      <td>BISC CH PETIT BEURRE GRIESSON 150G</td>\n      <td>45835.94</td>\n      <td>3331</td>\n      <td>18997.55</td>\n      <td>5.703257</td>\n    </tr>\n    <tr>\n      <th>12</th>\n      <td>5</td>\n      <td>1258462</td>\n      <td>MM LAVA ROUPAS 5LTS ULTIMATE CLEAN</td>\n      <td>166036.35</td>\n      <td>5272</td>\n      <td>26574.23</td>\n      <td>5.040635</td>\n    </tr>\n    <tr>\n      <th>13</th>\n      <td>13</td>\n      <td>1234326</td>\n      <td>PAO FRANCES MEMBERS MARK</td>\n      <td>25911.17</td>\n      <td>4749</td>\n      <td>14775.75</td>\n      <td>3.111339</td>\n    </tr>\n    <tr>\n      <th>14</th>\n      <td>10</td>\n      <td>1236279</td>\n      <td>SACOLA PLASTICA MM BRANCA</td>\n      <td>26113.88</td>\n      <td>29174</td>\n      <td>17074.87</td>\n      <td>0.585277</td>\n    </tr>\n  </tbody>\n</table>\n</div>"
     },
     "execution_count": 40,
     "metadata": {},
     "output_type": "execute_result"
    }
   ],
   "source": [
    "#agrupa os valores com a MAIOR MARGEM\n",
    "grouped_sams = sams.groupby(['item_id', 'item_descricao'])\n",
    "agg_sams = grouped_sams.agg({'receita_bruta': 'sum', 'item_unidade': 'sum', 'margem': 'sum'})\n",
    "top10_agrupado = agg_sams.sort_values(by='margem', ascending=False).reset_index().head(15)\n",
    "\n",
    "# cria a coluna de coeficiente de margem\n",
    "marg_recbrut = top10_agrupado\n",
    "marg_recbrut['Coeficiente'] = marg_recbrut['margem']/marg_recbrut['item_unidade']\n",
    "marg_recbrut_tratado = marg_recbrut.sort_values(by='Coeficiente', ascending=False).reset_index().head(16)\n",
    "marg_recbrut_tratado"
   ],
   "metadata": {
    "collapsed": false,
    "ExecuteTime": {
     "end_time": "2024-02-17T15:08:03.644521900Z",
     "start_time": "2024-02-17T15:08:03.502600800Z"
    }
   },
   "id": "d11T7oABCc8l",
   "execution_count": 40
  },
  {
   "cell_type": "code",
   "outputs": [
    {
     "data": {
      "text/plain": "    item_id                       item_descricao  receita_bruta  item_unidade  \\\n1   1236279            SACOLA PLASTICA MM BRANCA         616.53           854   \n2   1215794  PAPEL TOALHA KITCHEN JUMB FD C360FL        6894.21           441   \n3   1258462   MM LAVA ROUPAS 5LTS ULTIMATE CLEAN       10390.22           331   \n4   1227091      CR DE LEITE PIRACANJUBA TP 200G         949.83           330   \n5   1215744             SACOLA PLASTICA MM VERDE         163.26           312   \n6   1215745             SACOLA PLASTICA MM CINZA         199.32           312   \n7   1225171     LEITE UHT PIRANCANJUBA ZR LAC 1L        1136.61           263   \n8   1215705    PAPEL REPORT MULT A4 BRANCO 500 F        3990.59           215   \n9   1225085                   ACUC REF UNIAO 1KG         919.36           204   \n10  1226145   ALCOOL LIQ BACT 70 INPM TOPFORM 1L        2546.37           201   \n11  1226950    LEITE CONDENSADO TP 395G PIRACANJ         899.84           184   \n12  1237817              LEITE COND MOCA LT 395G        1152.67           178   \n13  1232067    REQUEIJ CREMOSO 500G MEMBERS MARK        1739.91           170   \n14  1216619    LIMPOL 6X500ML DETERG LIQ NATURAL        1949.40           165   \n15  1239674                    SAL REF CISNE 1KG         460.28           163   \n\n     margem                                              combo  \\\n1    362.69  PH ROYAL CARE FD FD 40 ROLOS X 30M + SACOLA PL...   \n2   2655.58  PH ROYAL CARE FD FD 40 ROLOS X 30M + PAPEL TOA...   \n3   1612.91  PH ROYAL CARE FD FD 40 ROLOS X 30M + MM LAVA R...   \n4    180.08  PH ROYAL CARE FD FD 40 ROLOS X 30M + CR DE LEI...   \n5     66.46  PH ROYAL CARE FD FD 40 ROLOS X 30M + SACOLA PL...   \n6    109.30  PH ROYAL CARE FD FD 40 ROLOS X 30M + SACOLA PL...   \n7    121.25  PH ROYAL CARE FD FD 40 ROLOS X 30M + LEITE UHT...   \n8    148.93  PH ROYAL CARE FD FD 40 ROLOS X 30M + PAPEL REP...   \n9    123.41  PH ROYAL CARE FD FD 40 ROLOS X 30M + ACUC REF ...   \n10   625.91  PH ROYAL CARE FD FD 40 ROLOS X 30M + ALCOOL LI...   \n11   180.33  PH ROYAL CARE FD FD 40 ROLOS X 30M + LEITE CON...   \n12   115.47  PH ROYAL CARE FD FD 40 ROLOS X 30M + LEITE CON...   \n13   138.98  PH ROYAL CARE FD FD 40 ROLOS X 30M + REQUEIJ C...   \n14   254.15  PH ROYAL CARE FD FD 40 ROLOS X 30M + LIMPOL 6X...   \n15    88.39  PH ROYAL CARE FD FD 40 ROLOS X 30M + SAL REF C...   \n\n                           Condicional  \n1   PH ROYAL CARE FD FD 40 ROLOS X 30M  \n2   PH ROYAL CARE FD FD 40 ROLOS X 30M  \n3   PH ROYAL CARE FD FD 40 ROLOS X 30M  \n4   PH ROYAL CARE FD FD 40 ROLOS X 30M  \n5   PH ROYAL CARE FD FD 40 ROLOS X 30M  \n6   PH ROYAL CARE FD FD 40 ROLOS X 30M  \n7   PH ROYAL CARE FD FD 40 ROLOS X 30M  \n8   PH ROYAL CARE FD FD 40 ROLOS X 30M  \n9   PH ROYAL CARE FD FD 40 ROLOS X 30M  \n10  PH ROYAL CARE FD FD 40 ROLOS X 30M  \n11  PH ROYAL CARE FD FD 40 ROLOS X 30M  \n12  PH ROYAL CARE FD FD 40 ROLOS X 30M  \n13  PH ROYAL CARE FD FD 40 ROLOS X 30M  \n14  PH ROYAL CARE FD FD 40 ROLOS X 30M  \n15  PH ROYAL CARE FD FD 40 ROLOS X 30M  ",
      "text/html": "<div>\n<style scoped>\n    .dataframe tbody tr th:only-of-type {\n        vertical-align: middle;\n    }\n\n    .dataframe tbody tr th {\n        vertical-align: top;\n    }\n\n    .dataframe thead th {\n        text-align: right;\n    }\n</style>\n<table border=\"1\" class=\"dataframe\">\n  <thead>\n    <tr style=\"text-align: right;\">\n      <th></th>\n      <th>item_id</th>\n      <th>item_descricao</th>\n      <th>receita_bruta</th>\n      <th>item_unidade</th>\n      <th>margem</th>\n      <th>combo</th>\n      <th>Condicional</th>\n    </tr>\n  </thead>\n  <tbody>\n    <tr>\n      <th>1</th>\n      <td>1236279</td>\n      <td>SACOLA PLASTICA MM BRANCA</td>\n      <td>616.53</td>\n      <td>854</td>\n      <td>362.69</td>\n      <td>PH ROYAL CARE FD FD 40 ROLOS X 30M + SACOLA PL...</td>\n      <td>PH ROYAL CARE FD FD 40 ROLOS X 30M</td>\n    </tr>\n    <tr>\n      <th>2</th>\n      <td>1215794</td>\n      <td>PAPEL TOALHA KITCHEN JUMB FD C360FL</td>\n      <td>6894.21</td>\n      <td>441</td>\n      <td>2655.58</td>\n      <td>PH ROYAL CARE FD FD 40 ROLOS X 30M + PAPEL TOA...</td>\n      <td>PH ROYAL CARE FD FD 40 ROLOS X 30M</td>\n    </tr>\n    <tr>\n      <th>3</th>\n      <td>1258462</td>\n      <td>MM LAVA ROUPAS 5LTS ULTIMATE CLEAN</td>\n      <td>10390.22</td>\n      <td>331</td>\n      <td>1612.91</td>\n      <td>PH ROYAL CARE FD FD 40 ROLOS X 30M + MM LAVA R...</td>\n      <td>PH ROYAL CARE FD FD 40 ROLOS X 30M</td>\n    </tr>\n    <tr>\n      <th>4</th>\n      <td>1227091</td>\n      <td>CR DE LEITE PIRACANJUBA TP 200G</td>\n      <td>949.83</td>\n      <td>330</td>\n      <td>180.08</td>\n      <td>PH ROYAL CARE FD FD 40 ROLOS X 30M + CR DE LEI...</td>\n      <td>PH ROYAL CARE FD FD 40 ROLOS X 30M</td>\n    </tr>\n    <tr>\n      <th>5</th>\n      <td>1215744</td>\n      <td>SACOLA PLASTICA MM VERDE</td>\n      <td>163.26</td>\n      <td>312</td>\n      <td>66.46</td>\n      <td>PH ROYAL CARE FD FD 40 ROLOS X 30M + SACOLA PL...</td>\n      <td>PH ROYAL CARE FD FD 40 ROLOS X 30M</td>\n    </tr>\n    <tr>\n      <th>6</th>\n      <td>1215745</td>\n      <td>SACOLA PLASTICA MM CINZA</td>\n      <td>199.32</td>\n      <td>312</td>\n      <td>109.30</td>\n      <td>PH ROYAL CARE FD FD 40 ROLOS X 30M + SACOLA PL...</td>\n      <td>PH ROYAL CARE FD FD 40 ROLOS X 30M</td>\n    </tr>\n    <tr>\n      <th>7</th>\n      <td>1225171</td>\n      <td>LEITE UHT PIRANCANJUBA ZR LAC 1L</td>\n      <td>1136.61</td>\n      <td>263</td>\n      <td>121.25</td>\n      <td>PH ROYAL CARE FD FD 40 ROLOS X 30M + LEITE UHT...</td>\n      <td>PH ROYAL CARE FD FD 40 ROLOS X 30M</td>\n    </tr>\n    <tr>\n      <th>8</th>\n      <td>1215705</td>\n      <td>PAPEL REPORT MULT A4 BRANCO 500 F</td>\n      <td>3990.59</td>\n      <td>215</td>\n      <td>148.93</td>\n      <td>PH ROYAL CARE FD FD 40 ROLOS X 30M + PAPEL REP...</td>\n      <td>PH ROYAL CARE FD FD 40 ROLOS X 30M</td>\n    </tr>\n    <tr>\n      <th>9</th>\n      <td>1225085</td>\n      <td>ACUC REF UNIAO 1KG</td>\n      <td>919.36</td>\n      <td>204</td>\n      <td>123.41</td>\n      <td>PH ROYAL CARE FD FD 40 ROLOS X 30M + ACUC REF ...</td>\n      <td>PH ROYAL CARE FD FD 40 ROLOS X 30M</td>\n    </tr>\n    <tr>\n      <th>10</th>\n      <td>1226145</td>\n      <td>ALCOOL LIQ BACT 70 INPM TOPFORM 1L</td>\n      <td>2546.37</td>\n      <td>201</td>\n      <td>625.91</td>\n      <td>PH ROYAL CARE FD FD 40 ROLOS X 30M + ALCOOL LI...</td>\n      <td>PH ROYAL CARE FD FD 40 ROLOS X 30M</td>\n    </tr>\n    <tr>\n      <th>11</th>\n      <td>1226950</td>\n      <td>LEITE CONDENSADO TP 395G PIRACANJ</td>\n      <td>899.84</td>\n      <td>184</td>\n      <td>180.33</td>\n      <td>PH ROYAL CARE FD FD 40 ROLOS X 30M + LEITE CON...</td>\n      <td>PH ROYAL CARE FD FD 40 ROLOS X 30M</td>\n    </tr>\n    <tr>\n      <th>12</th>\n      <td>1237817</td>\n      <td>LEITE COND MOCA LT 395G</td>\n      <td>1152.67</td>\n      <td>178</td>\n      <td>115.47</td>\n      <td>PH ROYAL CARE FD FD 40 ROLOS X 30M + LEITE CON...</td>\n      <td>PH ROYAL CARE FD FD 40 ROLOS X 30M</td>\n    </tr>\n    <tr>\n      <th>13</th>\n      <td>1232067</td>\n      <td>REQUEIJ CREMOSO 500G MEMBERS MARK</td>\n      <td>1739.91</td>\n      <td>170</td>\n      <td>138.98</td>\n      <td>PH ROYAL CARE FD FD 40 ROLOS X 30M + REQUEIJ C...</td>\n      <td>PH ROYAL CARE FD FD 40 ROLOS X 30M</td>\n    </tr>\n    <tr>\n      <th>14</th>\n      <td>1216619</td>\n      <td>LIMPOL 6X500ML DETERG LIQ NATURAL</td>\n      <td>1949.40</td>\n      <td>165</td>\n      <td>254.15</td>\n      <td>PH ROYAL CARE FD FD 40 ROLOS X 30M + LIMPOL 6X...</td>\n      <td>PH ROYAL CARE FD FD 40 ROLOS X 30M</td>\n    </tr>\n    <tr>\n      <th>15</th>\n      <td>1239674</td>\n      <td>SAL REF CISNE 1KG</td>\n      <td>460.28</td>\n      <td>163</td>\n      <td>88.39</td>\n      <td>PH ROYAL CARE FD FD 40 ROLOS X 30M + SAL REF C...</td>\n      <td>PH ROYAL CARE FD FD 40 ROLOS X 30M</td>\n    </tr>\n  </tbody>\n</table>\n</div>"
     },
     "execution_count": 59,
     "metadata": {},
     "output_type": "execute_result"
    }
   ],
   "source": [
    "\n",
    "#PARA QUALQUER ITEM - APENAS TROQUE VALOR DE X PELO CODIGO DO ITEM\n",
    "#Encontra por comparacao de tickets unicos os 15 items mais comprados junto com os 10 itens mais relevantes\n",
    "\n",
    "X = 1215826 # DIGITE O CODIGO DO ITEM TOP 10\n",
    "\n",
    "encont_tickets = sams[sams['item_id'] == X]['ticket'].unique()\n",
    "filtered_encont_tickets = sams[sams['ticket'].isin(encont_tickets)]\n",
    "vazio = pd.DataFrame()\n",
    "\n",
    "\n",
    "#Encontrar os 15 itens mais comprados com o item escolhido do top5 os possíveis combos duplos\n",
    "classificacao = filtered_encont_tickets.sort_values('item_unidade', ascending=False)\n",
    "sams_simples = classificacao.drop(['socio', 'ticket', 'id_clube','periodo'], axis=1)\n",
    "sams_simples_group = sams_simples.groupby(['item_id', 'item_descricao'])\n",
    "sams_simples_agg = sams_simples_group.agg({'receita_bruta': 'sum', 'item_unidade': 'sum', 'margem': 'sum'})\n",
    "sams_simples_tratado = sams_simples_agg.sort_values(by='item_unidade', ascending=False).reset_index().drop(0).head(15)\n",
    "item_unico = sams.loc[sams['item_id'] == X, 'item_descricao'].values[0]\n",
    "sams_simples_tratado['combo'] = item_unico + ' + ' + sams_simples_tratado['item_descricao']\n",
    "sams_simples_tratado['Condicional'] = item_unico\n",
    "sams_simples_tratado\n",
    "\n",
    "\n"
   ],
   "metadata": {
    "colab": {
     "base_uri": "https://localhost:8080/",
     "height": 520
    },
    "id": "220bf82ce353e02c",
    "outputId": "ad6171d3-8b97-4314-e1ca-b740e037095b",
    "ExecuteTime": {
     "end_time": "2024-02-17T18:10:02.047833200Z",
     "start_time": "2024-02-17T18:10:01.954535200Z"
    }
   },
   "id": "220bf82ce353e02c",
   "execution_count": 59
  },
  {
   "cell_type": "code",
   "source": [
    "\n",
    "X = 1228155 # item_id do item\n",
    "n_top_items = 3 # numero de itens no combo\n",
    "\n",
    "# encontra tickets unicos com o item X\n",
    "encont_tickets = sams[sams['item_id'] == X]['ticket'].unique()\n",
    "filtered_encont_tickets = sams[sams['ticket'].isin(encont_tickets)]\n",
    "\n",
    "# Cria a classificao consequente da escolha de X\n",
    "classification = filtered_encont_tickets.sort_values('item_unidade', ascending=False)\n",
    "sams_simples = classification.drop(['socio', 'ticket', 'id_clube','periodo'], axis=1)\n",
    "sams_simples_group = sams_simples.groupby(['item_id', 'item_descricao'])\n",
    "sams_simples_agg = sams_simples_group.agg({'receita_bruta': 'sum', 'item_unidade': 'sum', 'margem': 'sum'})\n",
    "sams_simples_sorted = sams_simples_agg.sort_values(by='item_unidade', ascending=False).reset_index()\n",
    "\n",
    "# Remove o item X\n",
    "sams_simples_sorted = sams_simples_sorted[sams_simples_sorted['item_id'] != X]\n",
    "\n",
    "# pega os top itens\n",
    "top_items = sams_simples_sorted.head(n_top_items)\n",
    "\n",
    "# pega a descricao do item X\n",
    "main_item_desc = sams.loc[sams['item_id'] == X, 'item_descricao'].values[0]\n",
    "\n",
    "# cria o combo custom\n",
    "top_items_desc = ' + '.join(top_items['item_descricao'])\n",
    "custom_combo = main_item_desc + ' + ' + top_items_desc\n",
    "\n",
    "print(custom_combo)"
   ],
   "metadata": {
    "colab": {
     "base_uri": "https://localhost:8080/"
    },
    "id": "XU_Mc-A4z0mc",
    "outputId": "8d039c41-d812-4d25-823a-5b58d5dd24c0",
    "ExecuteTime": {
     "end_time": "2024-02-17T14:05:57.890045800Z",
     "start_time": "2024-02-17T14:05:57.844166200Z"
    }
   },
   "id": "XU_Mc-A4z0mc",
   "execution_count": 8,
   "outputs": [
    {
     "name": "stdout",
     "output_type": "stream",
     "text": [
      "TAPETE MEMBERS MARK COM 80UN + SACOLA PLASTICA MM BRANCA + BALA DE GOMA FRUTAS DORI 30X32G + LEITE COND MOCA LT 395G\n"
     ]
    }
   ]
  },
  {
   "cell_type": "code",
   "source": [
    "from mlxtend.preprocessing import TransactionEncoder\n",
    "import pandas as pd\n",
    "\n",
    "# Extraindo uma lista de transacoes do ticket x item_id\n",
    "transactions = sams.groupby('ticket')['item_id'].apply(list).tolist()\n",
    "\n",
    "# One-hot encoding\n",
    "encoder = TransactionEncoder()\n",
    "encoded_transactions = encoder.fit_transform(transactions)\n",
    "df_transactions = pd.DataFrame(encoded_transactions, columns=encoder.columns_)\n",
    "\n",
    "from mlxtend.frequent_patterns import apriori\n",
    "\n",
    "# Ajuste min_support como for preciso para encontrar itemsets relevantes. O meu foi limitado pelo processamento do computador.\n",
    "frequent_itemsets = apriori(df_transactions, min_support=0.01, use_colnames=True)\n",
    "\n",
    "from mlxtend.frequent_patterns import association_rules\n",
    "\n",
    "# Cria as regras, ajuste a precisão do min_threshold de acordo com a vontade. O meu ficou limitado pelo processamento do meu computador. \n",
    "rules = association_rules(frequent_itemsets, metric=\"confidence\", min_threshold=0.1)\n",
    "\n",
    "\n",
    "# garanta que o valor seja em string\n",
    "X = 1215794  # The item of interest\n",
    "rules['antecedents'] = rules['antecedents'].apply(lambda x: set(map(str, x)))\n",
    "\n",
    "# se item_ids inteiros, entao os transforme em string se usar antecedents em string\n",
    "filtered_rules = rules[rules['antecedents'] == {str(X)}]\n",
    "\n",
    "# classifica pela metrica de interesse, nesse caso setamos 'confidence'\n",
    "filtered_rules_sorted = filtered_rules.sort_values(by='confidence', ascending=False)\n",
    "\n",
    "# Mostra as metricas resultantes\n",
    "print(filtered_rules_sorted)\n"
   ],
   "metadata": {
    "id": "K0VMmuCSF2oF",
    "ExecuteTime": {
     "end_time": "2024-02-18T00:22:12.997513800Z",
     "start_time": "2024-02-18T00:22:00.238186800Z"
    }
   },
   "id": "K0VMmuCSF2oF",
   "execution_count": 61,
   "outputs": [
    {
     "name": "stdout",
     "output_type": "stream",
     "text": [
      "  antecedents consequents  antecedent support  consequent support   support  \\\n",
      "4   {1215794}   (1236279)            0.077795            0.176444  0.016450   \n",
      "0   {1215794}   (1215821)            0.077795            0.051195  0.012431   \n",
      "2   {1215794}   (1215823)            0.077795            0.048608  0.011887   \n",
      "\n",
      "   confidence      lift  leverage  conviction  zhangs_metric  \n",
      "4    0.211460  1.198452  0.002724    1.044406       0.179559  \n",
      "0    0.159789  3.121156  0.008448    1.129245       0.736935  \n",
      "2    0.152797  3.143426  0.008105    1.122979       0.739397  \n"
     ]
    }
   ]
  },
  {
   "cell_type": "code",
   "outputs": [],
   "source": [],
   "metadata": {
    "collapsed": false
   },
   "id": "7738107d9414e015"
  },
  {
   "cell_type": "code",
   "outputs": [],
   "source": [],
   "metadata": {
    "collapsed": false
   },
   "id": "13edba97e8ed5ef2"
  },
  {
   "cell_type": "code",
   "outputs": [],
   "source": [
    "  {\n",
    "        \"cell_type\": \"code\",\n",
    "        \"execution_count\": null,\n",
    "        \"outputs\": [],\n",
    "        \"metadata\": {\n",
    "          \"id\": \"e2769b9e0005\"\n",
    "        },\n",
    "        \"source\": [\n",
    "          \"!pip install git+https://github.com/google/starthinker\\n\"\n",
    "        ]\n",
    "     },"
   ],
   "metadata": {
    "collapsed": false
   },
   "id": "12b5dce34ff7a2f4"
  }
 ],
 "metadata": {
  "kernelspec": {
   "display_name": "Python 3",
   "language": "python",
   "name": "python3"
  },
  "language_info": {
   "codemirror_mode": {
    "name": "ipython",
    "version": 2
   },
   "file_extension": ".py",
   "mimetype": "text/x-python",
   "name": "python",
   "nbconvert_exporter": "python",
   "pygments_lexer": "ipython2",
   "version": "2.7.6"
  },
  "colab": {
   "provenance": []
  }
 },
 "nbformat": 4,
 "nbformat_minor": 5
}
